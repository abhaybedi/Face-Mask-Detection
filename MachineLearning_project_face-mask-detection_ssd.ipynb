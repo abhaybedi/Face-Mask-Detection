{
 "cells": [
  {
   "cell_type": "code",
   "execution_count": 1,
   "id": "6a6a604d",
   "metadata": {
    "execution": {
     "iopub.execute_input": "2022-11-04T18:27:59.504225Z",
     "iopub.status.busy": "2022-11-04T18:27:59.502987Z",
     "iopub.status.idle": "2022-11-04T18:28:06.955057Z",
     "shell.execute_reply": "2022-11-04T18:28:06.953742Z"
    },
    "papermill": {
     "duration": 7.464747,
     "end_time": "2022-11-04T18:28:06.957970",
     "exception": false,
     "start_time": "2022-11-04T18:27:59.493223",
     "status": "completed"
    },
    "tags": []
   },
   "outputs": [],
   "source": [
    "import pandas as pd\n",
    "import numpy as np\n",
    "import cv2\n",
    "import json\n",
    "import os\n",
    "import matplotlib.pyplot as plt\n",
    "import random\n",
    "import seaborn as sns\n",
    "from keras.models import Sequential\n",
    "from keras import optimizers\n",
    "from keras import backend as K\n",
    "from keras.layers import Dense, Dropout, Activation, Flatten\n",
    "from keras.layers import Conv2D, MaxPooling2D, BatchNormalization\n",
    "from sklearn.model_selection import train_test_split\n",
    "from keras.preprocessing.image import ImageDataGenerator\n",
    "directory = \"../input/face-mask-detection-dataset/Medical mask/Medical mask/Medical Mask/annotations\"\n",
    "image_directory = \"../input/face-mask-detection-dataset/Medical mask/Medical mask/Medical Mask/images\"\n",
    "df = pd.read_csv(\"../input/face-mask-detection-dataset/train.csv\")\n",
    "df_test = pd.read_csv(\"../input/face-mask-detection-dataset/submission.csv\")"
   ]
  },
  {
   "cell_type": "code",
   "execution_count": 2,
   "id": "dd07763f",
   "metadata": {
    "execution": {
     "iopub.execute_input": "2022-11-04T18:28:06.973422Z",
     "iopub.status.busy": "2022-11-04T18:28:06.972993Z",
     "iopub.status.idle": "2022-11-04T18:28:07.168977Z",
     "shell.execute_reply": "2022-11-04T18:28:07.168016Z"
    },
    "papermill": {
     "duration": 0.206691,
     "end_time": "2022-11-04T18:28:07.171581",
     "exception": false,
     "start_time": "2022-11-04T18:28:06.964890",
     "status": "completed"
    },
    "tags": []
   },
   "outputs": [],
   "source": [
    "cvNet = cv2.dnn.readNetFromCaffe('../input/caffe-face-detector-opencv-pretrained-model/architecture.txt','../input/caffe-face-detector-opencv-pretrained-model/weights.caffemodel')"
   ]
  },
  {
   "cell_type": "code",
   "execution_count": 3,
   "id": "1decb5e3",
   "metadata": {
    "execution": {
     "iopub.execute_input": "2022-11-04T18:28:07.187366Z",
     "iopub.status.busy": "2022-11-04T18:28:07.186629Z",
     "iopub.status.idle": "2022-11-04T18:28:07.192113Z",
     "shell.execute_reply": "2022-11-04T18:28:07.191274Z"
    },
    "papermill": {
     "duration": 0.016407,
     "end_time": "2022-11-04T18:28:07.194529",
     "exception": false,
     "start_time": "2022-11-04T18:28:07.178122",
     "status": "completed"
    },
    "tags": []
   },
   "outputs": [],
   "source": [
    "def getJSON(filePathandName):\n",
    "    with open(filePathandName,'r') as f:\n",
    "        return json.load(f)"
   ]
  },
  {
   "cell_type": "code",
   "execution_count": 4,
   "id": "a9bfffea",
   "metadata": {
    "execution": {
     "iopub.execute_input": "2022-11-04T18:28:07.210036Z",
     "iopub.status.busy": "2022-11-04T18:28:07.208897Z",
     "iopub.status.idle": "2022-11-04T18:28:07.216947Z",
     "shell.execute_reply": "2022-11-04T18:28:07.216137Z"
    },
    "papermill": {
     "duration": 0.018277,
     "end_time": "2022-11-04T18:28:07.219415",
     "exception": false,
     "start_time": "2022-11-04T18:28:07.201138",
     "status": "completed"
    },
    "tags": []
   },
   "outputs": [],
   "source": [
    "def adjust_gamma(image, gamma=1.0):\n",
    "    invGamma = 1.0 / gamma\n",
    "    table = np.array([((i / 255.0) ** invGamma) * 255 for i in np.arange(0, 256)])\n",
    "    return cv2.LUT(image.astype(np.uint8), table.astype(np.uint8))"
   ]
  },
  {
   "cell_type": "code",
   "execution_count": 5,
   "id": "7fd54fcc",
   "metadata": {
    "execution": {
     "iopub.execute_input": "2022-11-04T18:28:07.234066Z",
     "iopub.status.busy": "2022-11-04T18:28:07.233646Z",
     "iopub.status.idle": "2022-11-04T18:28:21.101534Z",
     "shell.execute_reply": "2022-11-04T18:28:21.100412Z"
    },
    "papermill": {
     "duration": 13.878127,
     "end_time": "2022-11-04T18:28:21.104067",
     "exception": false,
     "start_time": "2022-11-04T18:28:07.225940",
     "status": "completed"
    },
    "tags": []
   },
   "outputs": [
    {
     "data": {
      "text/plain": [
       "{'FileName': '3758.png',\n",
       " 'NumOfAnno': 2,\n",
       " 'Annotations': [{'isProtected': False,\n",
       "   'ID': 217843115901993120,\n",
       "   'BoundingBox': [112, 4, 455, 441],\n",
       "   'classname': 'face_with_mask',\n",
       "   'Confidence': 1,\n",
       "   'Attributes': {}},\n",
       "  {'isProtected': False,\n",
       "   'ID': 12530598208497002,\n",
       "   'BoundingBox': [113, 237, 345, 440],\n",
       "   'classname': 'mask_colorful',\n",
       "   'Confidence': 1,\n",
       "   'Attributes': {}}]}"
      ]
     },
     "execution_count": 5,
     "metadata": {},
     "output_type": "execute_result"
    }
   ],
   "source": [
    "jsonfiles= []\n",
    "for i in os.listdir(directory):\n",
    "    jsonfiles.append(getJSON(os.path.join(directory,i)))\n",
    "jsonfiles[0]"
   ]
  },
  {
   "cell_type": "code",
   "execution_count": 6,
   "id": "02dc5407",
   "metadata": {
    "execution": {
     "iopub.execute_input": "2022-11-04T18:28:21.118959Z",
     "iopub.status.busy": "2022-11-04T18:28:21.118558Z",
     "iopub.status.idle": "2022-11-04T18:28:21.123362Z",
     "shell.execute_reply": "2022-11-04T18:28:21.122236Z"
    },
    "papermill": {
     "duration": 0.01542,
     "end_time": "2022-11-04T18:28:21.126135",
     "exception": false,
     "start_time": "2022-11-04T18:28:21.110715",
     "status": "completed"
    },
    "tags": []
   },
   "outputs": [],
   "source": [
    "#Data Visualization"
   ]
  },
  {
   "cell_type": "code",
   "execution_count": 7,
   "id": "5b5aa41d",
   "metadata": {
    "execution": {
     "iopub.execute_input": "2022-11-04T18:28:21.142139Z",
     "iopub.status.busy": "2022-11-04T18:28:21.141356Z",
     "iopub.status.idle": "2022-11-04T18:28:21.176329Z",
     "shell.execute_reply": "2022-11-04T18:28:21.175196Z"
    },
    "papermill": {
     "duration": 0.045556,
     "end_time": "2022-11-04T18:28:21.178770",
     "exception": false,
     "start_time": "2022-11-04T18:28:21.133214",
     "status": "completed"
    },
    "tags": []
   },
   "outputs": [
    {
     "data": {
      "text/html": [
       "<div>\n",
       "<style scoped>\n",
       "    .dataframe tbody tr th:only-of-type {\n",
       "        vertical-align: middle;\n",
       "    }\n",
       "\n",
       "    .dataframe tbody tr th {\n",
       "        vertical-align: top;\n",
       "    }\n",
       "\n",
       "    .dataframe thead th {\n",
       "        text-align: right;\n",
       "    }\n",
       "</style>\n",
       "<table border=\"1\" class=\"dataframe\">\n",
       "  <thead>\n",
       "    <tr style=\"text-align: right;\">\n",
       "      <th></th>\n",
       "      <th>name</th>\n",
       "      <th>x1</th>\n",
       "      <th>x2</th>\n",
       "      <th>y1</th>\n",
       "      <th>y2</th>\n",
       "      <th>classname</th>\n",
       "    </tr>\n",
       "  </thead>\n",
       "  <tbody>\n",
       "    <tr>\n",
       "      <th>0</th>\n",
       "      <td>2756.png</td>\n",
       "      <td>69</td>\n",
       "      <td>126</td>\n",
       "      <td>294</td>\n",
       "      <td>392</td>\n",
       "      <td>face_with_mask</td>\n",
       "    </tr>\n",
       "    <tr>\n",
       "      <th>1</th>\n",
       "      <td>2756.png</td>\n",
       "      <td>505</td>\n",
       "      <td>10</td>\n",
       "      <td>723</td>\n",
       "      <td>283</td>\n",
       "      <td>face_with_mask</td>\n",
       "    </tr>\n",
       "    <tr>\n",
       "      <th>2</th>\n",
       "      <td>2756.png</td>\n",
       "      <td>75</td>\n",
       "      <td>252</td>\n",
       "      <td>264</td>\n",
       "      <td>390</td>\n",
       "      <td>mask_colorful</td>\n",
       "    </tr>\n",
       "    <tr>\n",
       "      <th>3</th>\n",
       "      <td>2756.png</td>\n",
       "      <td>521</td>\n",
       "      <td>136</td>\n",
       "      <td>711</td>\n",
       "      <td>277</td>\n",
       "      <td>mask_colorful</td>\n",
       "    </tr>\n",
       "    <tr>\n",
       "      <th>4</th>\n",
       "      <td>6098.jpg</td>\n",
       "      <td>360</td>\n",
       "      <td>85</td>\n",
       "      <td>728</td>\n",
       "      <td>653</td>\n",
       "      <td>face_no_mask</td>\n",
       "    </tr>\n",
       "  </tbody>\n",
       "</table>\n",
       "</div>"
      ],
      "text/plain": [
       "       name   x1   x2   y1   y2       classname\n",
       "0  2756.png   69  126  294  392  face_with_mask\n",
       "1  2756.png  505   10  723  283  face_with_mask\n",
       "2  2756.png   75  252  264  390   mask_colorful\n",
       "3  2756.png  521  136  711  277   mask_colorful\n",
       "4  6098.jpg  360   85  728  653    face_no_mask"
      ]
     },
     "execution_count": 7,
     "metadata": {},
     "output_type": "execute_result"
    }
   ],
   "source": [
    "df = pd.read_csv(\"../input/face-mask-detection-dataset/train.csv\")\n",
    "df.head()"
   ]
  },
  {
   "cell_type": "code",
   "execution_count": 8,
   "id": "e2de9289",
   "metadata": {
    "execution": {
     "iopub.execute_input": "2022-11-04T18:28:21.196245Z",
     "iopub.status.busy": "2022-11-04T18:28:21.195837Z",
     "iopub.status.idle": "2022-11-04T18:30:26.050060Z",
     "shell.execute_reply": "2022-11-04T18:30:26.048617Z"
    },
    "papermill": {
     "duration": 124.865935,
     "end_time": "2022-11-04T18:30:26.053309",
     "exception": false,
     "start_time": "2022-11-04T18:28:21.187374",
     "status": "completed"
    },
    "tags": []
   },
   "outputs": [],
   "source": [
    "data = []\n",
    "img_size = 124\n",
    "mask = ['face_with_mask']\n",
    "non_mask = [\"face_no_mask\"]\n",
    "labels={'mask':0,'without mask':1}\n",
    "for i in df[\"name\"].unique():\n",
    "    f = i+\".json\"\n",
    "    for j in getJSON(os.path.join(directory,f)).get(\"Annotations\"):\n",
    "        if j[\"classname\"] in mask:\n",
    "            x,y,w,h = j[\"BoundingBox\"]\n",
    "            img = cv2.imread(os.path.join(image_directory,i),1)\n",
    "            img = img[y:h,x:w]\n",
    "            img = cv2.resize(img,(img_size,img_size))\n",
    "            data.append([img,labels[\"mask\"]])\n",
    "        if j[\"classname\"] in non_mask:\n",
    "            x,y,w,h = j[\"BoundingBox\"]\n",
    "            img = cv2.imread(os.path.join(image_directory,i),1)\n",
    "            img = img[y:h,x:w]\n",
    "            img = cv2.resize(img,(img_size,img_size))    \n",
    "            data.append([img,labels[\"without mask\"]])\n",
    "random.shuffle(data)    "
   ]
  },
  {
   "cell_type": "code",
   "execution_count": 9,
   "id": "18a154ef",
   "metadata": {
    "execution": {
     "iopub.execute_input": "2022-11-04T18:30:26.069867Z",
     "iopub.status.busy": "2022-11-04T18:30:26.069440Z",
     "iopub.status.idle": "2022-11-04T18:30:26.076160Z",
     "shell.execute_reply": "2022-11-04T18:30:26.075281Z"
    },
    "papermill": {
     "duration": 0.017834,
     "end_time": "2022-11-04T18:30:26.078696",
     "exception": false,
     "start_time": "2022-11-04T18:30:26.060862",
     "status": "completed"
    },
    "tags": []
   },
   "outputs": [
    {
     "data": {
      "text/plain": [
       "5749"
      ]
     },
     "execution_count": 9,
     "metadata": {},
     "output_type": "execute_result"
    }
   ],
   "source": [
    "len(data)"
   ]
  },
  {
   "cell_type": "code",
   "execution_count": 10,
   "id": "c10a3d95",
   "metadata": {
    "execution": {
     "iopub.execute_input": "2022-11-04T18:30:26.095157Z",
     "iopub.status.busy": "2022-11-04T18:30:26.094758Z",
     "iopub.status.idle": "2022-11-04T18:30:26.367609Z",
     "shell.execute_reply": "2022-11-04T18:30:26.365834Z"
    },
    "papermill": {
     "duration": 0.284655,
     "end_time": "2022-11-04T18:30:26.370427",
     "exception": false,
     "start_time": "2022-11-04T18:30:26.085772",
     "status": "completed"
    },
    "tags": []
   },
   "outputs": [
    {
     "name": "stderr",
     "output_type": "stream",
     "text": [
      "/opt/conda/lib/python3.7/site-packages/seaborn/_decorators.py:43: FutureWarning: Pass the following variable as a keyword arg: x. From version 0.12, the only valid positional argument will be `data`, and passing other arguments without an explicit keyword will result in an error or misinterpretation.\n",
      "  FutureWarning\n"
     ]
    },
    {
     "data": {
      "text/plain": [
       "<AxesSubplot:ylabel='count'>"
      ]
     },
     "execution_count": 10,
     "metadata": {},
     "output_type": "execute_result"
    },
    {
     "data": {
      "image/png": "[encoded data removed]",
      "text/plain": [
       "<Figure size 432x288 with 1 Axes>"
      ]
     },
     "metadata": {
      "needs_background": "light"
     },
     "output_type": "display_data"
    }
   ],
   "source": [
    "p = []\n",
    "for face in data:\n",
    "    if(face[1] == 0):\n",
    "        p.append(\"Mask\")\n",
    "    else:\n",
    "        p.append(\"No Mask\")\n",
    "sns.countplot(p)"
   ]
  },
  {
   "cell_type": "code",
   "execution_count": 11,
   "id": "7de50eec",
   "metadata": {
    "execution": {
     "iopub.execute_input": "2022-11-04T18:30:26.390025Z",
     "iopub.status.busy": "2022-11-04T18:30:26.389519Z",
     "iopub.status.idle": "2022-11-04T18:30:26.402178Z",
     "shell.execute_reply": "2022-11-04T18:30:26.400764Z"
    },
    "papermill": {
     "duration": 0.024605,
     "end_time": "2022-11-04T18:30:26.404905",
     "exception": false,
     "start_time": "2022-11-04T18:30:26.380300",
     "status": "completed"
    },
    "tags": []
   },
   "outputs": [
    {
     "data": {
      "text/plain": [
       "(124, 124, 3)"
      ]
     },
     "execution_count": 11,
     "metadata": {},
     "output_type": "execute_result"
    }
   ],
   "source": [
    "X = []\n",
    "Y = []\n",
    "for features,label in data:\n",
    "    X.append(features)\n",
    "    Y.append(label)\n",
    "X[0].shape"
   ]
  },
  {
   "cell_type": "code",
   "execution_count": 12,
   "id": "10269b18",
   "metadata": {
    "execution": {
     "iopub.execute_input": "2022-11-04T18:30:26.424008Z",
     "iopub.status.busy": "2022-11-04T18:30:26.423624Z",
     "iopub.status.idle": "2022-11-04T18:30:27.495909Z",
     "shell.execute_reply": "2022-11-04T18:30:27.494647Z"
    },
    "papermill": {
     "duration": 1.084586,
     "end_time": "2022-11-04T18:30:27.498302",
     "exception": false,
     "start_time": "2022-11-04T18:30:26.413716",
     "status": "completed"
    },
    "tags": []
   },
   "outputs": [
    {
     "data": {
      "text/plain": [
       "array([0, 1])"
      ]
     },
     "execution_count": 12,
     "metadata": {},
     "output_type": "execute_result"
    }
   ],
   "source": [
    "X = np.array(X)/255.0\n",
    "X = X.reshape(-1,124,124,3)\n",
    "Y = np.array(Y)\n",
    "np.unique(Y)"
   ]
  },
  {
   "cell_type": "code",
   "execution_count": 13,
   "id": "087283a7",
   "metadata": {
    "execution": {
     "iopub.execute_input": "2022-11-04T18:30:27.515228Z",
     "iopub.status.busy": "2022-11-04T18:30:27.514848Z",
     "iopub.status.idle": "2022-11-04T18:30:27.521830Z",
     "shell.execute_reply": "2022-11-04T18:30:27.520570Z"
    },
    "papermill": {
     "duration": 0.018306,
     "end_time": "2022-11-04T18:30:27.524176",
     "exception": false,
     "start_time": "2022-11-04T18:30:27.505870",
     "status": "completed"
    },
    "tags": []
   },
   "outputs": [
    {
     "data": {
      "text/plain": [
       "(5749,)"
      ]
     },
     "execution_count": 13,
     "metadata": {},
     "output_type": "execute_result"
    }
   ],
   "source": [
    "Y.shape"
   ]
  },
  {
   "cell_type": "code",
   "execution_count": 14,
   "id": "0328b2f6",
   "metadata": {
    "execution": {
     "iopub.execute_input": "2022-11-04T18:30:27.541492Z",
     "iopub.status.busy": "2022-11-04T18:30:27.541013Z",
     "iopub.status.idle": "2022-11-04T18:30:27.545846Z",
     "shell.execute_reply": "2022-11-04T18:30:27.544810Z"
    },
    "papermill": {
     "duration": 0.016334,
     "end_time": "2022-11-04T18:30:27.548207",
     "exception": false,
     "start_time": "2022-11-04T18:30:27.531873",
     "status": "completed"
    },
    "tags": []
   },
   "outputs": [],
   "source": [
    "#Model Construction"
   ]
  },
  {
   "cell_type": "code",
   "execution_count": 15,
   "id": "12ebfcff",
   "metadata": {
    "execution": {
     "iopub.execute_input": "2022-11-04T18:30:27.564775Z",
     "iopub.status.busy": "2022-11-04T18:30:27.564380Z",
     "iopub.status.idle": "2022-11-04T18:30:27.879683Z",
     "shell.execute_reply": "2022-11-04T18:30:27.878685Z"
    },
    "papermill": {
     "duration": 0.326641,
     "end_time": "2022-11-04T18:30:27.882370",
     "exception": false,
     "start_time": "2022-11-04T18:30:27.555729",
     "status": "completed"
    },
    "tags": []
   },
   "outputs": [
    {
     "name": "stderr",
     "output_type": "stream",
     "text": [
      "2022-11-04 18:30:27.603214: I tensorflow/core/common_runtime/process_util.cc:146] Creating new thread pool with default inter op setting: 2. Tune using inter_op_parallelism_threads for best performance.\n"
     ]
    }
   ],
   "source": [
    "model = Sequential()\n",
    "\n",
    "model.add(Conv2D(32, (3, 3), padding = \"same\", activation='relu', input_shape=(124,124,3)))\n",
    "model.add(Conv2D(64, (3, 3), activation='relu'))\n",
    "model.add(Conv2D(128, (3, 3), activation='relu'))\n",
    "model.add(MaxPooling2D(pool_size=(2,2)))\n",
    "model.add(Dropout(0.25))\n",
    " \n",
    "model.add(Flatten())\n",
    "model.add(Dropout(0.5))\n",
    "model.add(Dense(50, activation='relu'))\n",
    "model.add(Dropout(0.5))\n",
    "model.add(Dense(1, activation='sigmoid'))"
   ]
  },
  {
   "cell_type": "code",
   "execution_count": 16,
   "id": "721ec25a",
   "metadata": {
    "execution": {
     "iopub.execute_input": "2022-11-04T18:30:27.899552Z",
     "iopub.status.busy": "2022-11-04T18:30:27.899036Z",
     "iopub.status.idle": "2022-11-04T18:30:27.905409Z",
     "shell.execute_reply": "2022-11-04T18:30:27.904602Z"
    },
    "papermill": {
     "duration": 0.018779,
     "end_time": "2022-11-04T18:30:27.908789",
     "exception": false,
     "start_time": "2022-11-04T18:30:27.890010",
     "status": "completed"
    },
    "tags": []
   },
   "outputs": [
    {
     "name": "stdout",
     "output_type": "stream",
     "text": [
      "Model: \"sequential\"\n",
      "_________________________________________________________________\n",
      "Layer (type)                 Output Shape              Param #   \n",
      "=================================================================\n",
      "conv2d (Conv2D)              (None, 124, 124, 32)      896       \n",
      "_________________________________________________________________\n",
      "conv2d_1 (Conv2D)            (None, 122, 122, 64)      18496     \n",
      "_________________________________________________________________\n",
      "conv2d_2 (Conv2D)            (None, 120, 120, 128)     73856     \n",
      "_________________________________________________________________\n",
      "max_pooling2d (MaxPooling2D) (None, 60, 60, 128)       0         \n",
      "_________________________________________________________________\n",
      "dropout (Dropout)            (None, 60, 60, 128)       0         \n",
      "_________________________________________________________________\n",
      "flatten (Flatten)            (None, 460800)            0         \n",
      "_________________________________________________________________\n",
      "dropout_1 (Dropout)          (None, 460800)            0         \n",
      "_________________________________________________________________\n",
      "dense (Dense)                (None, 50)                23040050  \n",
      "_________________________________________________________________\n",
      "dropout_2 (Dropout)          (None, 50)                0         \n",
      "_________________________________________________________________\n",
      "dense_1 (Dense)              (None, 1)                 51        \n",
      "=================================================================\n",
      "Total params: 23,133,349\n",
      "Trainable params: 23,133,349\n",
      "Non-trainable params: 0\n",
      "_________________________________________________________________\n"
     ]
    }
   ],
   "source": [
    "model.summary()"
   ]
  },
  {
   "cell_type": "code",
   "execution_count": 17,
   "id": "d3d3381a",
   "metadata": {
    "execution": {
     "iopub.execute_input": "2022-11-04T18:30:27.928254Z",
     "iopub.status.busy": "2022-11-04T18:30:27.927162Z",
     "iopub.status.idle": "2022-11-04T18:30:27.941090Z",
     "shell.execute_reply": "2022-11-04T18:30:27.939681Z"
    },
    "papermill": {
     "duration": 0.025787,
     "end_time": "2022-11-04T18:30:27.943879",
     "exception": false,
     "start_time": "2022-11-04T18:30:27.918092",
     "status": "completed"
    },
    "tags": []
   },
   "outputs": [],
   "source": [
    "model.compile(loss='binary_crossentropy', optimizer='adam' ,metrics=['accuracy'])"
   ]
  },
  {
   "cell_type": "code",
   "execution_count": 18,
   "id": "2b14d960",
   "metadata": {
    "execution": {
     "iopub.execute_input": "2022-11-04T18:30:27.961682Z",
     "iopub.status.busy": "2022-11-04T18:30:27.961245Z",
     "iopub.status.idle": "2022-11-04T18:30:27.966430Z",
     "shell.execute_reply": "2022-11-04T18:30:27.965195Z"
    },
    "papermill": {
     "duration": 0.016785,
     "end_time": "2022-11-04T18:30:27.968865",
     "exception": false,
     "start_time": "2022-11-04T18:30:27.952080",
     "status": "completed"
    },
    "tags": []
   },
   "outputs": [],
   "source": [
    "#Model Training"
   ]
  },
  {
   "cell_type": "code",
   "execution_count": 19,
   "id": "9a35ec31",
   "metadata": {
    "execution": {
     "iopub.execute_input": "2022-11-04T18:30:27.986264Z",
     "iopub.status.busy": "2022-11-04T18:30:27.985494Z",
     "iopub.status.idle": "2022-11-04T18:30:28.834455Z",
     "shell.execute_reply": "2022-11-04T18:30:28.833365Z"
    },
    "papermill": {
     "duration": 0.860669,
     "end_time": "2022-11-04T18:30:28.837234",
     "exception": false,
     "start_time": "2022-11-04T18:30:27.976565",
     "status": "completed"
    },
    "tags": []
   },
   "outputs": [],
   "source": [
    "xtrain,xval,ytrain,yval=train_test_split(X, Y,train_size=0.8,random_state=0)"
   ]
  },
  {
   "cell_type": "code",
   "execution_count": 20,
   "id": "b4106fee",
   "metadata": {
    "execution": {
     "iopub.execute_input": "2022-11-04T18:30:28.855112Z",
     "iopub.status.busy": "2022-11-04T18:30:28.854726Z",
     "iopub.status.idle": "2022-11-04T18:30:29.684755Z",
     "shell.execute_reply": "2022-11-04T18:30:29.683780Z"
    },
    "papermill": {
     "duration": 0.84201,
     "end_time": "2022-11-04T18:30:29.687446",
     "exception": false,
     "start_time": "2022-11-04T18:30:28.845436",
     "status": "completed"
    },
    "tags": []
   },
   "outputs": [],
   "source": [
    "datagen = ImageDataGenerator(\n",
    "        featurewise_center=False,  \n",
    "        samplewise_center=False,  \n",
    "        featurewise_std_normalization=False,  \n",
    "        samplewise_std_normalization=False,  \n",
    "        zca_whitening=False,    \n",
    "        rotation_range=15,    \n",
    "        width_shift_range=0.1,\n",
    "        height_shift_range=0.1,  \n",
    "        horizontal_flip=True,  \n",
    "        vertical_flip=False)\n",
    "datagen.fit(xtrain)"
   ]
  },
  {
   "cell_type": "code",
   "execution_count": 21,
   "id": "4a87ad0d",
   "metadata": {
    "execution": {
     "iopub.execute_input": "2022-11-04T18:30:29.704864Z",
     "iopub.status.busy": "2022-11-04T18:30:29.704466Z",
     "iopub.status.idle": "2022-11-05T01:27:16.303502Z",
     "shell.execute_reply": "2022-11-05T01:27:16.302597Z"
    },
    "papermill": {
     "duration": 25007.060975,
     "end_time": "2022-11-05T01:27:16.756487",
     "exception": false,
     "start_time": "2022-11-04T18:30:29.695512",
     "status": "completed"
    },
    "scrolled": true,
    "tags": []
   },
   "outputs": [
    {
     "name": "stderr",
     "output_type": "stream",
     "text": [
      "/opt/conda/lib/python3.7/site-packages/keras/engine/training.py:1972: UserWarning: `Model.fit_generator` is deprecated and will be removed in a future version. Please use `Model.fit`, which supports generators.\n",
      "  warnings.warn('`Model.fit_generator` is deprecated and '\n",
      "2022-11-04 18:30:30.635499: I tensorflow/compiler/mlir/mlir_graph_optimization_pass.cc:185] None of the MLIR Optimization Passes are enabled (registered 2)\n"
     ]
    },
    {
     "name": "stdout",
     "output_type": "stream",
     "text": [
      "Epoch 1/50\n",
      "143/143 [==============================] - 495s 3s/step - loss: 0.4381 - accuracy: 0.8091 - val_loss: 0.2445 - val_accuracy: 0.9104\n",
      "Epoch 2/50\n",
      "143/143 [==============================] - 505s 4s/step - loss: 0.3139 - accuracy: 0.8673 - val_loss: 0.2393 - val_accuracy: 0.8983\n",
      "Epoch 3/50\n",
      "143/143 [==============================] - 496s 3s/step - loss: 0.2799 - accuracy: 0.8853 - val_loss: 0.2092 - val_accuracy: 0.9017\n",
      "Epoch 4/50\n",
      "143/143 [==============================] - 493s 3s/step - loss: 0.2660 - accuracy: 0.8842 - val_loss: 0.1930 - val_accuracy: 0.9322\n",
      "Epoch 5/50\n",
      "143/143 [==============================] - 498s 3s/step - loss: 0.2611 - accuracy: 0.8894 - val_loss: 0.1914 - val_accuracy: 0.9278\n",
      "Epoch 6/50\n",
      "143/143 [==============================] - 502s 4s/step - loss: 0.2530 - accuracy: 0.8993 - val_loss: 0.2021 - val_accuracy: 0.9217\n",
      "Epoch 7/50\n",
      "143/143 [==============================] - 493s 3s/step - loss: 0.2404 - accuracy: 0.9015 - val_loss: 0.2174 - val_accuracy: 0.9165\n",
      "Epoch 8/50\n",
      "143/143 [==============================] - 491s 3s/step - loss: 0.2587 - accuracy: 0.9004 - val_loss: 0.2089 - val_accuracy: 0.9200\n",
      "Epoch 9/50\n",
      "143/143 [==============================] - 494s 3s/step - loss: 0.2318 - accuracy: 0.9032 - val_loss: 0.1772 - val_accuracy: 0.9330\n",
      "Epoch 10/50\n",
      "143/143 [==============================] - 494s 3s/step - loss: 0.2248 - accuracy: 0.9087 - val_loss: 0.1946 - val_accuracy: 0.9261\n",
      "Epoch 11/50\n",
      "143/143 [==============================] - 487s 3s/step - loss: 0.2268 - accuracy: 0.9111 - val_loss: 0.2057 - val_accuracy: 0.9261\n",
      "Epoch 12/50\n",
      "143/143 [==============================] - 484s 3s/step - loss: 0.2162 - accuracy: 0.9122 - val_loss: 0.1905 - val_accuracy: 0.9261\n",
      "Epoch 13/50\n",
      "143/143 [==============================] - 484s 3s/step - loss: 0.2133 - accuracy: 0.9148 - val_loss: 0.1816 - val_accuracy: 0.9330\n",
      "Epoch 14/50\n",
      "143/143 [==============================] - 487s 3s/step - loss: 0.2229 - accuracy: 0.9135 - val_loss: 0.2126 - val_accuracy: 0.9183\n",
      "Epoch 15/50\n",
      "143/143 [==============================] - 481s 3s/step - loss: 0.2243 - accuracy: 0.9139 - val_loss: 0.1924 - val_accuracy: 0.9365\n",
      "Epoch 16/50\n",
      "143/143 [==============================] - 484s 3s/step - loss: 0.2045 - accuracy: 0.9216 - val_loss: 0.2071 - val_accuracy: 0.9217\n",
      "Epoch 17/50\n",
      "143/143 [==============================] - 486s 3s/step - loss: 0.2063 - accuracy: 0.9192 - val_loss: 0.1768 - val_accuracy: 0.9365\n",
      "Epoch 18/50\n",
      "143/143 [==============================] - 483s 3s/step - loss: 0.2134 - accuracy: 0.9175 - val_loss: 0.1760 - val_accuracy: 0.9339\n",
      "Epoch 19/50\n",
      "143/143 [==============================] - 489s 3s/step - loss: 0.2127 - accuracy: 0.9166 - val_loss: 0.2330 - val_accuracy: 0.9261\n",
      "Epoch 20/50\n",
      "143/143 [==============================] - 496s 3s/step - loss: 0.1977 - accuracy: 0.9234 - val_loss: 0.1726 - val_accuracy: 0.9357\n",
      "Epoch 21/50\n",
      "143/143 [==============================] - 491s 3s/step - loss: 0.2006 - accuracy: 0.9238 - val_loss: 0.1678 - val_accuracy: 0.9443\n",
      "Epoch 22/50\n",
      "143/143 [==============================] - 489s 3s/step - loss: 0.1856 - accuracy: 0.9273 - val_loss: 0.1879 - val_accuracy: 0.9391\n",
      "Epoch 23/50\n",
      "143/143 [==============================] - 486s 3s/step - loss: 0.1826 - accuracy: 0.9312 - val_loss: 0.1983 - val_accuracy: 0.9374\n",
      "Epoch 24/50\n",
      "143/143 [==============================] - 496s 3s/step - loss: 0.1922 - accuracy: 0.9260 - val_loss: 0.1878 - val_accuracy: 0.9409\n",
      "Epoch 25/50\n",
      "143/143 [==============================] - 492s 3s/step - loss: 0.1897 - accuracy: 0.9240 - val_loss: 0.1711 - val_accuracy: 0.9339\n",
      "Epoch 26/50\n",
      "143/143 [==============================] - 485s 3s/step - loss: 0.1867 - accuracy: 0.9284 - val_loss: 0.1725 - val_accuracy: 0.9383\n",
      "Epoch 27/50\n",
      "143/143 [==============================] - 491s 3s/step - loss: 0.1901 - accuracy: 0.9262 - val_loss: 0.1692 - val_accuracy: 0.9374\n",
      "Epoch 28/50\n",
      "143/143 [==============================] - 507s 4s/step - loss: 0.1894 - accuracy: 0.9223 - val_loss: 0.1885 - val_accuracy: 0.9400\n",
      "Epoch 29/50\n",
      "143/143 [==============================] - 495s 3s/step - loss: 0.1839 - accuracy: 0.9326 - val_loss: 0.1623 - val_accuracy: 0.9417\n",
      "Epoch 30/50\n",
      "143/143 [==============================] - 492s 3s/step - loss: 0.1849 - accuracy: 0.9308 - val_loss: 0.1720 - val_accuracy: 0.9478\n",
      "Epoch 31/50\n",
      "143/143 [==============================] - 496s 3s/step - loss: 0.1803 - accuracy: 0.9286 - val_loss: 0.1726 - val_accuracy: 0.9365\n",
      "Epoch 32/50\n",
      "143/143 [==============================] - 489s 3s/step - loss: 0.1949 - accuracy: 0.9291 - val_loss: 0.1654 - val_accuracy: 0.9452\n",
      "Epoch 33/50\n",
      "143/143 [==============================] - 482s 3s/step - loss: 0.1986 - accuracy: 0.9220 - val_loss: 0.1767 - val_accuracy: 0.9417\n",
      "Epoch 34/50\n",
      "143/143 [==============================] - 481s 3s/step - loss: 0.1814 - accuracy: 0.9280 - val_loss: 0.1752 - val_accuracy: 0.9443\n",
      "Epoch 35/50\n",
      "143/143 [==============================] - 481s 3s/step - loss: 0.1649 - accuracy: 0.9347 - val_loss: 0.1718 - val_accuracy: 0.9426\n",
      "Epoch 36/50\n",
      "143/143 [==============================] - 490s 3s/step - loss: 0.1940 - accuracy: 0.9284 - val_loss: 0.1962 - val_accuracy: 0.9330\n",
      "Epoch 37/50\n",
      "143/143 [==============================] - 496s 3s/step - loss: 0.1815 - accuracy: 0.9326 - val_loss: 0.1625 - val_accuracy: 0.9461\n",
      "Epoch 38/50\n",
      "143/143 [==============================] - 492s 3s/step - loss: 0.1781 - accuracy: 0.9310 - val_loss: 0.1672 - val_accuracy: 0.9478\n",
      "Epoch 39/50\n",
      "143/143 [==============================] - 476s 3s/step - loss: 0.1843 - accuracy: 0.9286 - val_loss: 0.1687 - val_accuracy: 0.9391\n",
      "Epoch 40/50\n",
      "143/143 [==============================] - 477s 3s/step - loss: 0.1813 - accuracy: 0.9271 - val_loss: 0.1924 - val_accuracy: 0.9383\n",
      "Epoch 41/50\n",
      "143/143 [==============================] - 477s 3s/step - loss: 0.1693 - accuracy: 0.9343 - val_loss: 0.2047 - val_accuracy: 0.9357\n",
      "Epoch 42/50\n",
      "143/143 [==============================] - 477s 3s/step - loss: 0.1739 - accuracy: 0.9317 - val_loss: 0.1581 - val_accuracy: 0.9478\n",
      "Epoch 43/50\n",
      "143/143 [==============================] - 478s 3s/step - loss: 0.1780 - accuracy: 0.9293 - val_loss: 0.1589 - val_accuracy: 0.9487\n",
      "Epoch 44/50\n",
      "143/143 [==============================] - 474s 3s/step - loss: 0.1729 - accuracy: 0.9315 - val_loss: 0.1707 - val_accuracy: 0.9383\n",
      "Epoch 45/50\n",
      "143/143 [==============================] - 485s 3s/step - loss: 0.1711 - accuracy: 0.9326 - val_loss: 0.1578 - val_accuracy: 0.9417\n",
      "Epoch 46/50\n",
      "143/143 [==============================] - 481s 3s/step - loss: 0.1807 - accuracy: 0.9323 - val_loss: 0.1492 - val_accuracy: 0.9522\n",
      "Epoch 47/50\n",
      "143/143 [==============================] - 477s 3s/step - loss: 0.1522 - accuracy: 0.9358 - val_loss: 0.1854 - val_accuracy: 0.9435\n",
      "Epoch 48/50\n",
      "143/143 [==============================] - 477s 3s/step - loss: 0.1612 - accuracy: 0.9376 - val_loss: 0.1639 - val_accuracy: 0.9452\n",
      "Epoch 49/50\n",
      "143/143 [==============================] - 484s 3s/step - loss: 0.1507 - accuracy: 0.9435 - val_loss: 0.1532 - val_accuracy: 0.9522\n",
      "Epoch 50/50\n",
      "143/143 [==============================] - 483s 3s/step - loss: 0.1827 - accuracy: 0.9299 - val_loss: 0.1860 - val_accuracy: 0.9374\n"
     ]
    }
   ],
   "source": [
    "history = model.fit_generator(datagen.flow(xtrain, ytrain, batch_size=32),\n",
    "                    steps_per_epoch=xtrain.shape[0]//32,\n",
    "                    epochs=50,\n",
    "                    verbose=1,\n",
    "                    validation_data=(xval, yval))"
   ]
  },
  {
   "cell_type": "code",
   "execution_count": 22,
   "id": "2efc6f31",
   "metadata": {
    "execution": {
     "iopub.execute_input": "2022-11-05T01:27:17.665514Z",
     "iopub.status.busy": "2022-11-05T01:27:17.664800Z",
     "iopub.status.idle": "2022-11-05T01:27:17.821190Z",
     "shell.execute_reply": "2022-11-05T01:27:17.820269Z"
    },
    "papermill": {
     "duration": 0.614392,
     "end_time": "2022-11-05T01:27:17.823605",
     "exception": false,
     "start_time": "2022-11-05T01:27:17.209213",
     "status": "completed"
    },
    "tags": []
   },
   "outputs": [
    {
     "data": {
      "image/png": "[encoded data removed]",
      "text/plain": [
       "<Figure size 432x288 with 1 Axes>"
      ]
     },
     "metadata": {
      "needs_background": "light"
     },
     "output_type": "display_data"
    }
   ],
   "source": [
    "plt.plot(history.history['accuracy'],'g')\n",
    "plt.plot(history.history['val_accuracy'],'b')\n",
    "plt.title('Training Accuracy vs Validation Accuracy')\n",
    "plt.ylabel('Accuracy')\n",
    "plt.xlabel('Epoch')\n",
    "plt.legend(['Train', 'Validation'], loc='upper left')\n",
    "plt.show()"
   ]
  },
  {
   "cell_type": "code",
   "execution_count": 23,
   "id": "83a3d86a",
   "metadata": {
    "execution": {
     "iopub.execute_input": "2022-11-05T01:27:18.737347Z",
     "iopub.status.busy": "2022-11-05T01:27:18.736667Z",
     "iopub.status.idle": "2022-11-05T01:27:18.887594Z",
     "shell.execute_reply": "2022-11-05T01:27:18.886548Z"
    },
    "papermill": {
     "duration": 0.614776,
     "end_time": "2022-11-05T01:27:18.890125",
     "exception": false,
     "start_time": "2022-11-05T01:27:18.275349",
     "status": "completed"
    },
    "tags": []
   },
   "outputs": [
    {
     "data": {
      "image/png": "[encoded data removed]",
      "text/plain": [
       "<Figure size 432x288 with 1 Axes>"
      ]
     },
     "metadata": {
      "needs_background": "light"
     },
     "output_type": "display_data"
    }
   ],
   "source": [
    "plt.plot(history.history['loss'],'g')\n",
    "plt.plot(history.history['val_loss'],'b')\n",
    "plt.title('Training Loss vs Validation Loss')\n",
    "plt.ylabel('Loss')\n",
    "plt.xlabel('Epoch')\n",
    "plt.legend(['Train', 'Validation'], loc='upper left')\n",
    "plt.show()"
   ]
  },
  {
   "cell_type": "code",
   "execution_count": 24,
   "id": "b16d6dbc",
   "metadata": {
    "execution": {
     "iopub.execute_input": "2022-11-05T01:27:19.807633Z",
     "iopub.status.busy": "2022-11-05T01:27:19.807215Z",
     "iopub.status.idle": "2022-11-05T01:27:19.815790Z",
     "shell.execute_reply": "2022-11-05T01:27:19.814650Z"
    },
    "papermill": {
     "duration": 0.471521,
     "end_time": "2022-11-05T01:27:19.817961",
     "exception": false,
     "start_time": "2022-11-05T01:27:19.346440",
     "status": "completed"
    },
    "tags": []
   },
   "outputs": [
    {
     "name": "stdout",
     "output_type": "stream",
     "text": [
      "8142 1698\n"
     ]
    }
   ],
   "source": [
    "print(len(df_test[\"name\"]),len(df_test[\"name\"].unique()))"
   ]
  },
  {
   "cell_type": "code",
   "execution_count": 25,
   "id": "343395d2",
   "metadata": {
    "execution": {
     "iopub.execute_input": "2022-11-05T01:27:20.850651Z",
     "iopub.status.busy": "2022-11-05T01:27:20.850208Z",
     "iopub.status.idle": "2022-11-05T01:27:20.855323Z",
     "shell.execute_reply": "2022-11-05T01:27:20.854197Z"
    },
    "papermill": {
     "duration": 0.463898,
     "end_time": "2022-11-05T01:27:20.857464",
     "exception": false,
     "start_time": "2022-11-05T01:27:20.393566",
     "status": "completed"
    },
    "tags": []
   },
   "outputs": [],
   "source": [
    "test_images = ['1114.png','1504.jpg', '0072.jpg','0012.jpg','0353.jpg','1374.jpg']"
   ]
  }
 ],
 "metadata": {
  "kernelspec": {
   "display_name": "Python 3",
   "language": "python",
   "name": "python3"
  },
  "language_info": {
   "codemirror_mode": {
    "name": "ipython",
    "version": 3
   },
   "file_extension": ".py",
   "mimetype": "text/x-python",
   "name": "python",
   "nbconvert_exporter": "python",
   "pygments_lexer": "ipython3",
   "version": "3.7.12"
  },
  "papermill": {
   "default_parameters": {},
   "duration": 25173.525545,
   "end_time": "2022-11-05T01:27:24.459105",
   "environment_variables": {},
   "exception": null,
   "input_path": "__notebook__.ipynb",
   "output_path": "__notebook__.ipynb",
   "parameters": {},
   "start_time": "2022-11-04T18:27:50.933560",
   "version": "2.3.4"
  }
 },
 "nbformat": 4,
 "nbformat_minor": 5
}
